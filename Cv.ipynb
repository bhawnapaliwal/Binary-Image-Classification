{
 "cells": [
  {
   "cell_type": "code",
   "execution_count": null,
   "metadata": {},
   "outputs": [],
   "source": [
    "from fastai.vision import *"
   ]
  },
  {
   "cell_type": "code",
   "execution_count": null,
   "metadata": {},
   "outputs": [],
   "source": [
    "from fastai import *\n",
    "%reload_ext autoreload\n",
    "%autoreload 2\n",
    "%matplotlib inline"
   ]
  },
  {
   "cell_type": "code",
   "execution_count": null,
   "metadata": {},
   "outputs": [],
   "source": [
    "def getLabels(filepath):\n",
    "    if str(filepath)[16]=='P':\n",
    "        return '0'\n",
    "    else:\n",
    "        return '1'\n",
    "data = ImageList.from_folder(\"/home/bhawna/CV\").split_by_rand_pct(0.1).label_from_func(getLabels).transform(get_transforms(), size=224).databunch()"
   ]
  },
  {
   "cell_type": "code",
   "execution_count": null,
   "metadata": {},
   "outputs": [],
   "source": [
    "data.normalize(imagenet_stats)"
   ]
  },
  {
   "cell_type": "code",
   "execution_count": null,
   "metadata": {},
   "outputs": [],
   "source": [
    "learn = cnn_learner(data,models.resnet34,metrics=accuracy)"
   ]
  },
  {
   "cell_type": "code",
   "execution_count": null,
   "metadata": {},
   "outputs": [],
   "source": [
    "learn.fit_one_cycle(1)"
   ]
  },
  {
   "cell_type": "code",
   "execution_count": null,
   "metadata": {},
   "outputs": [],
   "source": [
    "learn.fit_one_cycle(4)"
   ]
  },
  {
   "cell_type": "code",
   "execution_count": null,
   "metadata": {},
   "outputs": [],
   "source": [
    "learn.fit_one_cycle(10)"
   ]
  },
  {
   "cell_type": "code",
   "execution_count": null,
   "metadata": {},
   "outputs": [],
   "source": [
    "learn.fit_one_cycle(10)"
   ]
  },
  {
   "cell_type": "code",
   "execution_count": null,
   "metadata": {},
   "outputs": [],
   "source": [
    "learn.fit_one_cycle(20)"
   ]
  },
  {
   "cell_type": "code",
   "execution_count": null,
   "metadata": {},
   "outputs": [],
   "source": [
    "learn.export('cv_model')"
   ]
  },
  {
   "cell_type": "code",
   "execution_count": null,
   "metadata": {},
   "outputs": [],
   "source": [
    "learn = load_learner('./CV','cv_model')"
   ]
  },
  {
   "cell_type": "code",
   "execution_count": null,
   "metadata": {},
   "outputs": [],
   "source": [
    "import os\n",
    "os.getcwd()"
   ]
  },
  {
   "cell_type": "code",
   "execution_count": null,
   "metadata": {},
   "outputs": [],
   "source": [
    "learn.predict(learn.data.train_ds[0][0])"
   ]
  },
  {
   "cell_type": "code",
   "execution_count": null,
   "metadata": {},
   "outputs": [],
   "source": [
    " data.add_test(ItemList.from_folder(\"/home/bhawna/CV/test\"))"
   ]
  },
  {
   "cell_type": "code",
   "execution_count": null,
   "metadata": {},
   "outputs": [],
   "source": [
    "tfms = get_transforms(models.resnet34)\n",
    "import csv\n",
    "file = open('submission.csv','w+')\n",
    "file.write(',image,label\\n')\n",
    "with open('./CV/submission.csv','rt')as f:\n",
    "    data1 = csv.reader(f)\n",
    "    cnt=0\n",
    "    for row in data1:\n",
    "        print(row[1])\n",
    "        if cnt!=0:\n",
    "            img = open_image('./CV/test/'+row[1])\n",
    "            img.apply_tfms(tfms[0],224)\n",
    "            file.write(str(cnt)+','+row[1]+','+str(learn.predict(img)[0])+'\\n')\n",
    "        cnt = cnt+1\n",
    "file.close()"
   ]
  },
  {
   "cell_type": "code",
   "execution_count": null,
   "metadata": {},
   "outputs": [],
   "source": [
    "import os\n",
    "# list1 = os.listdir('/home/bhawna/CV/test')\n",
    "cnt=0\n",
    "file = open('submit_cv.csv','w+')\n",
    "file.write(',image,label\\n')\n",
    "name_arr = data.test_ds.items\n",
    "for i in name_arr:\n",
    "    file.write(str(cnt)+\",\"+str(i)+\",\"+str(learn.predict(data.train_ds[cnt][0])[0])+\"\\n\")\n",
    "    if cnt==5:\n",
    "        break\n",
    "    cnt = cnt+1\n",
    "    if cnt%100==0:\n",
    "        print(cnt)\n",
    "file.close()"
   ]
  }
 ],
 "metadata": {
  "kernelspec": {
   "display_name": "Python 3",
   "language": "python",
   "name": "python3"
  },
  "language_info": {
   "codemirror_mode": {
    "name": "ipython",
    "version": 3
   },
   "file_extension": ".py",
   "mimetype": "text/x-python",
   "name": "python",
   "nbconvert_exporter": "python",
   "pygments_lexer": "ipython3",
   "version": "3.6.8"
  }
 },
 "nbformat": 4,
 "nbformat_minor": 2
}
